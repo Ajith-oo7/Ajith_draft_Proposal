{
 "cells": [
  {
   "cell_type": "markdown",
   "id": "9a972111",
   "metadata": {},
   "source": [
    "# Capstone"
   ]
  },
  {
   "cell_type": "markdown",
   "id": "3779d598",
   "metadata": {},
   "source": [
    "In this project, we working on world bank data. The website is as follows:\n",
    "https://finances.worldbank.org/Loans-and-Credits/IDA-Statement-Of-Credits-and-Grants-Historical-Dat/tdwh-3krx"
   ]
  },
  {
   "cell_type": "code",
   "execution_count": 1,
   "id": "a993c909",
   "metadata": {},
   "outputs": [],
   "source": [
    "import numpy as np \n",
    "import pandas as pd\n",
    "import matplotlib.pyplot as plt\n",
    "import matplotlib\n",
    "import warnings\n",
    "import seaborn as sns\n",
    "from pandas import DataFrame"
   ]
  },
  {
   "cell_type": "code",
   "execution_count": 2,
   "id": "1b64d8b8",
   "metadata": {},
   "outputs": [],
   "source": [
    "url = \"https://finances.worldbank.org/resource/tdwh-3krx.csv\"\n",
    "df = pd.read_csv(url)"
   ]
  },
  {
   "cell_type": "code",
   "execution_count": 3,
   "id": "b5362f66",
   "metadata": {},
   "outputs": [
    {
     "data": {
      "text/html": [
       "<div>\n",
       "<style scoped>\n",
       "    .dataframe tbody tr th:only-of-type {\n",
       "        vertical-align: middle;\n",
       "    }\n",
       "\n",
       "    .dataframe tbody tr th {\n",
       "        vertical-align: top;\n",
       "    }\n",
       "\n",
       "    .dataframe thead th {\n",
       "        text-align: right;\n",
       "    }\n",
       "</style>\n",
       "<table border=\"1\" class=\"dataframe\">\n",
       "  <thead>\n",
       "    <tr style=\"text-align: right;\">\n",
       "      <th></th>\n",
       "      <th>end_of_period</th>\n",
       "      <th>credit_number</th>\n",
       "      <th>region</th>\n",
       "      <th>country_code</th>\n",
       "      <th>country</th>\n",
       "      <th>borrower</th>\n",
       "      <th>credit_status</th>\n",
       "      <th>service_charge_rate</th>\n",
       "      <th>currency_of_commitment</th>\n",
       "      <th>project_id</th>\n",
       "      <th>...</th>\n",
       "      <th>repaid_3rd_party</th>\n",
       "      <th>due_3rd_party</th>\n",
       "      <th>credits_held</th>\n",
       "      <th>first_repayment_date</th>\n",
       "      <th>last_repayment_date</th>\n",
       "      <th>agreement_signing_date</th>\n",
       "      <th>board_approval_date</th>\n",
       "      <th>effective_date_most_recent_</th>\n",
       "      <th>closed_date_most_recent_</th>\n",
       "      <th>last_disbursement_date</th>\n",
       "    </tr>\n",
       "  </thead>\n",
       "  <tbody>\n",
       "    <tr>\n",
       "      <th>0</th>\n",
       "      <td>2011-04-30T00:00:00.000</td>\n",
       "      <td>IDA00010</td>\n",
       "      <td>LATIN AMERICA AND CARIBBEAN</td>\n",
       "      <td>HN</td>\n",
       "      <td>Honduras</td>\n",
       "      <td>MINISTERIO DE HACIENDA Y CREDITO PUBLICO</td>\n",
       "      <td>Fully Repaid</td>\n",
       "      <td>0.75</td>\n",
       "      <td>USD</td>\n",
       "      <td>P007335</td>\n",
       "      <td>...</td>\n",
       "      <td>0.0</td>\n",
       "      <td>0.0</td>\n",
       "      <td>0.0</td>\n",
       "      <td>1971-09-01T00:00:00.000</td>\n",
       "      <td>2011-03-01T00:00:00.000</td>\n",
       "      <td>1961-05-12T00:00:00.000</td>\n",
       "      <td>1961-05-11T00:00:00.000</td>\n",
       "      <td>1961-06-29T00:00:00.000</td>\n",
       "      <td>1967-07-31T00:00:00.000</td>\n",
       "      <td>NaN</td>\n",
       "    </tr>\n",
       "    <tr>\n",
       "      <th>1</th>\n",
       "      <td>2011-05-31T00:00:00.000</td>\n",
       "      <td>IDA00010</td>\n",
       "      <td>LATIN AMERICA AND CARIBBEAN</td>\n",
       "      <td>HN</td>\n",
       "      <td>Honduras</td>\n",
       "      <td>MINISTERIO DE HACIENDA Y CREDITO PUBLICO</td>\n",
       "      <td>Fully Repaid</td>\n",
       "      <td>0.75</td>\n",
       "      <td>USD</td>\n",
       "      <td>P007335</td>\n",
       "      <td>...</td>\n",
       "      <td>0.0</td>\n",
       "      <td>0.0</td>\n",
       "      <td>0.0</td>\n",
       "      <td>1971-09-01T00:00:00.000</td>\n",
       "      <td>2011-03-01T00:00:00.000</td>\n",
       "      <td>1961-05-12T00:00:00.000</td>\n",
       "      <td>1961-05-11T00:00:00.000</td>\n",
       "      <td>1961-06-29T00:00:00.000</td>\n",
       "      <td>1967-07-31T00:00:00.000</td>\n",
       "      <td>NaN</td>\n",
       "    </tr>\n",
       "    <tr>\n",
       "      <th>2</th>\n",
       "      <td>2011-06-30T00:00:00.000</td>\n",
       "      <td>IDA00010</td>\n",
       "      <td>LATIN AMERICA AND CARIBBEAN</td>\n",
       "      <td>HN</td>\n",
       "      <td>Honduras</td>\n",
       "      <td>MINISTERIO DE HACIENDA Y CREDITO PUBLICO</td>\n",
       "      <td>Fully Repaid</td>\n",
       "      <td>0.75</td>\n",
       "      <td>USD</td>\n",
       "      <td>P007335</td>\n",
       "      <td>...</td>\n",
       "      <td>0.0</td>\n",
       "      <td>0.0</td>\n",
       "      <td>0.0</td>\n",
       "      <td>1971-09-01T00:00:00.000</td>\n",
       "      <td>2011-03-01T00:00:00.000</td>\n",
       "      <td>1961-05-12T00:00:00.000</td>\n",
       "      <td>1961-05-11T00:00:00.000</td>\n",
       "      <td>1961-06-29T00:00:00.000</td>\n",
       "      <td>1967-07-31T00:00:00.000</td>\n",
       "      <td>NaN</td>\n",
       "    </tr>\n",
       "    <tr>\n",
       "      <th>3</th>\n",
       "      <td>2011-07-31T00:00:00.000</td>\n",
       "      <td>IDA00010</td>\n",
       "      <td>LATIN AMERICA AND CARIBBEAN</td>\n",
       "      <td>HN</td>\n",
       "      <td>Honduras</td>\n",
       "      <td>MINISTERIO DE HACIENDA Y CREDITO PUBLICO</td>\n",
       "      <td>Fully Repaid</td>\n",
       "      <td>0.75</td>\n",
       "      <td>USD</td>\n",
       "      <td>P007335</td>\n",
       "      <td>...</td>\n",
       "      <td>0.0</td>\n",
       "      <td>0.0</td>\n",
       "      <td>0.0</td>\n",
       "      <td>1971-09-01T00:00:00.000</td>\n",
       "      <td>2011-03-01T00:00:00.000</td>\n",
       "      <td>1961-05-12T00:00:00.000</td>\n",
       "      <td>1961-05-11T00:00:00.000</td>\n",
       "      <td>1961-06-29T00:00:00.000</td>\n",
       "      <td>1967-07-31T00:00:00.000</td>\n",
       "      <td>NaN</td>\n",
       "    </tr>\n",
       "    <tr>\n",
       "      <th>4</th>\n",
       "      <td>2011-08-31T00:00:00.000</td>\n",
       "      <td>IDA00010</td>\n",
       "      <td>LATIN AMERICA AND CARIBBEAN</td>\n",
       "      <td>HN</td>\n",
       "      <td>Honduras</td>\n",
       "      <td>MINISTERIO DE HACIENDA Y CREDITO PUBLICO</td>\n",
       "      <td>Fully Repaid</td>\n",
       "      <td>0.75</td>\n",
       "      <td>USD</td>\n",
       "      <td>P007335</td>\n",
       "      <td>...</td>\n",
       "      <td>0.0</td>\n",
       "      <td>0.0</td>\n",
       "      <td>0.0</td>\n",
       "      <td>1971-09-01T00:00:00.000</td>\n",
       "      <td>2011-03-01T00:00:00.000</td>\n",
       "      <td>1961-05-12T00:00:00.000</td>\n",
       "      <td>1961-05-11T00:00:00.000</td>\n",
       "      <td>1961-06-29T00:00:00.000</td>\n",
       "      <td>1967-07-31T00:00:00.000</td>\n",
       "      <td>NaN</td>\n",
       "    </tr>\n",
       "  </tbody>\n",
       "</table>\n",
       "<p>5 rows × 30 columns</p>\n",
       "</div>"
      ],
      "text/plain": [
       "             end_of_period credit_number                       region  \\\n",
       "0  2011-04-30T00:00:00.000      IDA00010  LATIN AMERICA AND CARIBBEAN   \n",
       "1  2011-05-31T00:00:00.000      IDA00010  LATIN AMERICA AND CARIBBEAN   \n",
       "2  2011-06-30T00:00:00.000      IDA00010  LATIN AMERICA AND CARIBBEAN   \n",
       "3  2011-07-31T00:00:00.000      IDA00010  LATIN AMERICA AND CARIBBEAN   \n",
       "4  2011-08-31T00:00:00.000      IDA00010  LATIN AMERICA AND CARIBBEAN   \n",
       "\n",
       "  country_code   country                                  borrower  \\\n",
       "0           HN  Honduras  MINISTERIO DE HACIENDA Y CREDITO PUBLICO   \n",
       "1           HN  Honduras  MINISTERIO DE HACIENDA Y CREDITO PUBLICO   \n",
       "2           HN  Honduras  MINISTERIO DE HACIENDA Y CREDITO PUBLICO   \n",
       "3           HN  Honduras  MINISTERIO DE HACIENDA Y CREDITO PUBLICO   \n",
       "4           HN  Honduras  MINISTERIO DE HACIENDA Y CREDITO PUBLICO   \n",
       "\n",
       "  credit_status  service_charge_rate currency_of_commitment project_id  ...  \\\n",
       "0  Fully Repaid                 0.75                    USD    P007335  ...   \n",
       "1  Fully Repaid                 0.75                    USD    P007335  ...   \n",
       "2  Fully Repaid                 0.75                    USD    P007335  ...   \n",
       "3  Fully Repaid                 0.75                    USD    P007335  ...   \n",
       "4  Fully Repaid                 0.75                    USD    P007335  ...   \n",
       "\n",
       "  repaid_3rd_party  due_3rd_party  credits_held     first_repayment_date  \\\n",
       "0              0.0            0.0           0.0  1971-09-01T00:00:00.000   \n",
       "1              0.0            0.0           0.0  1971-09-01T00:00:00.000   \n",
       "2              0.0            0.0           0.0  1971-09-01T00:00:00.000   \n",
       "3              0.0            0.0           0.0  1971-09-01T00:00:00.000   \n",
       "4              0.0            0.0           0.0  1971-09-01T00:00:00.000   \n",
       "\n",
       "       last_repayment_date   agreement_signing_date      board_approval_date  \\\n",
       "0  2011-03-01T00:00:00.000  1961-05-12T00:00:00.000  1961-05-11T00:00:00.000   \n",
       "1  2011-03-01T00:00:00.000  1961-05-12T00:00:00.000  1961-05-11T00:00:00.000   \n",
       "2  2011-03-01T00:00:00.000  1961-05-12T00:00:00.000  1961-05-11T00:00:00.000   \n",
       "3  2011-03-01T00:00:00.000  1961-05-12T00:00:00.000  1961-05-11T00:00:00.000   \n",
       "4  2011-03-01T00:00:00.000  1961-05-12T00:00:00.000  1961-05-11T00:00:00.000   \n",
       "\n",
       "   effective_date_most_recent_  closed_date_most_recent_  \\\n",
       "0      1961-06-29T00:00:00.000   1967-07-31T00:00:00.000   \n",
       "1      1961-06-29T00:00:00.000   1967-07-31T00:00:00.000   \n",
       "2      1961-06-29T00:00:00.000   1967-07-31T00:00:00.000   \n",
       "3      1961-06-29T00:00:00.000   1967-07-31T00:00:00.000   \n",
       "4      1961-06-29T00:00:00.000   1967-07-31T00:00:00.000   \n",
       "\n",
       "   last_disbursement_date  \n",
       "0                     NaN  \n",
       "1                     NaN  \n",
       "2                     NaN  \n",
       "3                     NaN  \n",
       "4                     NaN  \n",
       "\n",
       "[5 rows x 30 columns]"
      ]
     },
     "execution_count": 3,
     "metadata": {},
     "output_type": "execute_result"
    }
   ],
   "source": [
    "df.head()"
   ]
  },
  {
   "cell_type": "code",
   "execution_count": 4,
   "id": "cbcbeb78",
   "metadata": {},
   "outputs": [],
   "source": [
    "df.drop(['repaid_3rd_party', 'due_3rd_party','sold_3rd_party','undisbursed_amount','exchange_adjustment'], axis=1, inplace=True)"
   ]
  },
  {
   "cell_type": "markdown",
   "id": "1967068e",
   "metadata": {},
   "source": [
    "# Exploratory Data Analysis:"
   ]
  },
  {
   "cell_type": "code",
   "execution_count": 5,
   "id": "a583fb2d",
   "metadata": {},
   "outputs": [
    {
     "data": {
      "text/plain": [
       "end_of_period                     0\n",
       "credit_number                     0\n",
       "region                            0\n",
       "country_code                      0\n",
       "country                           0\n",
       "borrower                          0\n",
       "credit_status                     0\n",
       "service_charge_rate               0\n",
       "currency_of_commitment            0\n",
       "project_id                        0\n",
       "project_name                      0\n",
       "original_principal_amount         0\n",
       "cancelled_amount                  0\n",
       "disbursed_amount                  0\n",
       "repaid_to_ida                     0\n",
       "due_to_ida                        0\n",
       "borrower_s_obligation             0\n",
       "credits_held                      0\n",
       "first_repayment_date              0\n",
       "last_repayment_date               0\n",
       "agreement_signing_date            0\n",
       "board_approval_date               0\n",
       "effective_date_most_recent_       0\n",
       "closed_date_most_recent_          0\n",
       "last_disbursement_date         1000\n",
       "dtype: int64"
      ]
     },
     "execution_count": 5,
     "metadata": {},
     "output_type": "execute_result"
    }
   ],
   "source": [
    "df.isnull().sum()"
   ]
  },
  {
   "cell_type": "code",
   "execution_count": 6,
   "id": "57fd79cd",
   "metadata": {},
   "outputs": [],
   "source": [
    "df.drop('last_disbursement_date',axis=1,inplace=True)"
   ]
  },
  {
   "cell_type": "code",
   "execution_count": 7,
   "id": "533b8626",
   "metadata": {},
   "outputs": [
    {
     "data": {
      "text/plain": [
       "end_of_period                  0\n",
       "credit_number                  0\n",
       "region                         0\n",
       "country_code                   0\n",
       "country                        0\n",
       "borrower                       0\n",
       "credit_status                  0\n",
       "service_charge_rate            0\n",
       "currency_of_commitment         0\n",
       "project_id                     0\n",
       "project_name                   0\n",
       "original_principal_amount      0\n",
       "cancelled_amount               0\n",
       "disbursed_amount               0\n",
       "repaid_to_ida                  0\n",
       "due_to_ida                     0\n",
       "borrower_s_obligation          0\n",
       "credits_held                   0\n",
       "first_repayment_date           0\n",
       "last_repayment_date            0\n",
       "agreement_signing_date         0\n",
       "board_approval_date            0\n",
       "effective_date_most_recent_    0\n",
       "closed_date_most_recent_       0\n",
       "dtype: int64"
      ]
     },
     "execution_count": 7,
     "metadata": {},
     "output_type": "execute_result"
    }
   ],
   "source": [
    "df.isnull().sum()"
   ]
  },
  {
   "cell_type": "code",
   "execution_count": 8,
   "id": "abf3b047",
   "metadata": {},
   "outputs": [
    {
     "data": {
      "text/plain": [
       "end_of_period                   object\n",
       "credit_number                   object\n",
       "region                          object\n",
       "country_code                    object\n",
       "country                         object\n",
       "borrower                        object\n",
       "credit_status                   object\n",
       "service_charge_rate            float64\n",
       "currency_of_commitment          object\n",
       "project_id                      object\n",
       "project_name                    object\n",
       "original_principal_amount      float64\n",
       "cancelled_amount               float64\n",
       "disbursed_amount               float64\n",
       "repaid_to_ida                  float64\n",
       "due_to_ida                     float64\n",
       "borrower_s_obligation          float64\n",
       "credits_held                   float64\n",
       "first_repayment_date            object\n",
       "last_repayment_date             object\n",
       "agreement_signing_date          object\n",
       "board_approval_date             object\n",
       "effective_date_most_recent_     object\n",
       "closed_date_most_recent_        object\n",
       "dtype: object"
      ]
     },
     "execution_count": 8,
     "metadata": {},
     "output_type": "execute_result"
    }
   ],
   "source": [
    "df.dtypes"
   ]
  },
  {
   "cell_type": "code",
   "execution_count": 9,
   "id": "1c9b5a65",
   "metadata": {},
   "outputs": [
    {
     "name": "stdout",
     "output_type": "stream",
     "text": [
      "<class 'pandas.core.frame.DataFrame'>\n",
      "RangeIndex: 1000 entries, 0 to 999\n",
      "Data columns (total 24 columns):\n",
      " #   Column                       Non-Null Count  Dtype  \n",
      "---  ------                       --------------  -----  \n",
      " 0   end_of_period                1000 non-null   object \n",
      " 1   credit_number                1000 non-null   object \n",
      " 2   region                       1000 non-null   object \n",
      " 3   country_code                 1000 non-null   object \n",
      " 4   country                      1000 non-null   object \n",
      " 5   borrower                     1000 non-null   object \n",
      " 6   credit_status                1000 non-null   object \n",
      " 7   service_charge_rate          1000 non-null   float64\n",
      " 8   currency_of_commitment       1000 non-null   object \n",
      " 9   project_id                   1000 non-null   object \n",
      " 10  project_name                 1000 non-null   object \n",
      " 11  original_principal_amount    1000 non-null   float64\n",
      " 12  cancelled_amount             1000 non-null   float64\n",
      " 13  disbursed_amount             1000 non-null   float64\n",
      " 14  repaid_to_ida                1000 non-null   float64\n",
      " 15  due_to_ida                   1000 non-null   float64\n",
      " 16  borrower_s_obligation        1000 non-null   float64\n",
      " 17  credits_held                 1000 non-null   float64\n",
      " 18  first_repayment_date         1000 non-null   object \n",
      " 19  last_repayment_date          1000 non-null   object \n",
      " 20  agreement_signing_date       1000 non-null   object \n",
      " 21  board_approval_date          1000 non-null   object \n",
      " 22  effective_date_most_recent_  1000 non-null   object \n",
      " 23  closed_date_most_recent_     1000 non-null   object \n",
      "dtypes: float64(8), object(16)\n",
      "memory usage: 187.6+ KB\n"
     ]
    }
   ],
   "source": [
    "df.info()"
   ]
  },
  {
   "cell_type": "code",
   "execution_count": 10,
   "id": "54e48a57",
   "metadata": {},
   "outputs": [
    {
     "data": {
      "text/plain": [
       "<AxesSubplot:>"
      ]
     },
     "execution_count": 10,
     "metadata": {},
     "output_type": "execute_result"
    },
    {
     "data": {
      "image/png": "[encoded data removed]",
      "text/plain": [
       "<Figure size 432x288 with 1 Axes>"
      ]
     },
     "metadata": {
      "needs_background": "light"
     },
     "output_type": "display_data"
    }
   ],
   "source": [
    "df.plot.box()"
   ]
  },
  {
   "cell_type": "code",
   "execution_count": 11,
   "id": "58ef2759",
   "metadata": {},
   "outputs": [
    {
     "data": {
      "image/png": "[encoded data removed]",
      "text/plain": [
       "<Figure size 1080x432 with 2 Axes>"
      ]
     },
     "metadata": {
      "needs_background": "light"
     },
     "output_type": "display_data"
    }
   ],
   "source": [
    "plt.figure(figsize=(15,6))\n",
    "sns.heatmap(df.corr())\n",
    "plt.show()"
   ]
  },
  {
   "cell_type": "code",
   "execution_count": null,
   "id": "d179353e",
   "metadata": {},
   "outputs": [],
   "source": []
  }
 ],
 "metadata": {
  "kernelspec": {
   "display_name": "Python 3 (ipykernel)",
   "language": "python",
   "name": "python3"
  },
  "language_info": {
   "codemirror_mode": {
    "name": "ipython",
    "version": 3
   },
   "file_extension": ".py",
   "mimetype": "text/x-python",
   "name": "python",
   "nbconvert_exporter": "python",
   "pygments_lexer": "ipython3",
   "version": "3.9.7"
  }
 },
 "nbformat": 4,
 "nbformat_minor": 5
}
